{
 "cells": [
  {
   "cell_type": "markdown",
   "metadata": {},
   "source": [
    "<div align=\"center\">\n",
    "МІНІСТЕРСТВО ОСВІТИ І НАУКИ УКРАЇНИ<br>\n",
    "ІНСТИТУТ ПРИКЛАДНОГО СИСТЕМНОГО АНАЛІЗУ<br>\n",
    "НАЦІОНАЛЬНОГО ТЕХНІЧНОГО УНІВЕРСИТЕТУ УКРАЇНИ<br>\n",
    "«КИЇВСЬКИЙ ПОЛІТЕХНІЧНИЙ ІНСТИТУТ»<br>\n",
    "КАФЕДРА МАТЕМАТИЧНИХ МЕТОДІВ СИСТЕМНОГО АНАЛІЗУ<br>\n",
    "</div>\n",
    "<br><br><br><br><br><br><br><br>\n",
    "<div align=\"center\"><strong>Лабораторна робота №1</strong></div>\n",
    "<div align=\"center\">З курсу \"Інтелектуальні системи підтримки прийняття рішень\"</div>\n",
    "<div align=\"center\">Тема \"Basic Python\"</div>\n",
    "<br><br><br><br>\n",
    "<div align=\"right\">\n",
    "    <strong>Виконав:</strong><br>\n",
    "    Студент группи КА-81<br>\n",
    "    Єрко А.В.<br><br>\n",
    "    <strong>Прийняла:</strong><br>\n",
    "    Недашківська Н.І.\n",
    "</div>\n",
    "<br><br><br><br><br><br><br>\n",
    "<center>Київ - 2021</center>\n",
    "\n",
    "\n",
    "<hr>"
   ]
  },
  {
   "cell_type": "markdown",
   "metadata": {},
   "source": [
    "**Варіант 3.** Дано масив $T$, який складається з $N$ рядків, які відповідають прикладам, і $m$ стовпчиків, які відповідають ознакам. Відомо, що ознака $x_h$ приймає значення з множини $\\{c_{h_1}, c_{h_2} \\dots c_{h_{q_h}}\\}$.\n",
    "Дано вектор $y$ розмірності $N$, елементи якого приймають значення з множини $S = \\{s_1, s_2 \\dots s_v\\}$ (мітки классів для прикладів).\n",
    "\n",
    "Знайти ознаку $x^*_h$, для якої наступний вираз приймає мінімальне значення:\n",
    "$$\n",
    "    G(x_h) = \\sum^{q_h}_{i=1} \\frac{|T_i|}{N} H(T_i, S). \\qquad (1)\n",
    "$$\n",
    "Де $T_i$ - підмножина прикладів, для яких ознака $x_h$ приймає значення $c_{h_i}$, $|A|$ - потужність множини $A$, $H(A,S)$ - індекс Джині множини $A$ по відношенню до властивості S:\n",
    "$$\n",
    "    H(A,S) = 1 -\\sum^{v}_{i=1} \\left( \\frac{k_i}{|A|} \\right)^2, \\qquad (2)\n",
    "$$\n",
    "де властивість $S$ може приймати $v$ різних значень, кожне з яких в $k_i$ випадках.\n",
    "\n",
    "**Реалізація:**"
   ]
  },
  {
   "cell_type": "code",
   "execution_count": 1,
   "metadata": {},
   "outputs": [],
   "source": [
    "import numpy as np"
   ]
  },
  {
   "cell_type": "code",
   "execution_count": 2,
   "metadata": {},
   "outputs": [],
   "source": [
    "def gini_impurity(A): # Індекс Джині (2)\n",
    "    return 1 - ( (np.unique(A, return_counts=True)[1] / A.shape[0])**2 ).sum()"
   ]
  },
  {
   "cell_type": "code",
   "execution_count": 3,
   "metadata": {},
   "outputs": [],
   "source": [
    "def g_expression(x, y):  # вираз (1)\n",
    "    c_h, n_h = np.unique(x, return_counts=True)\n",
    "    return (n_h/x.size * [gini_impurity(y[x == c]) for c in c_h]).sum()"
   ]
  },
  {
   "cell_type": "code",
   "execution_count": 4,
   "metadata": {},
   "outputs": [],
   "source": [
    "def find_best_feature(T, y):\n",
    "    '''\n",
    "    T : np.ndarray of (N, m) - матриця прикладів\n",
    "    y : np.ndarray of (N, ) - вектор ознак\n",
    "    \n",
    "    Повертає номер ознаки (стовбця масиву T)\n",
    "    для якої значення виразу (1) відносно y - мінімальне\n",
    "    та вектор значень виразу для кожноъ ознаки.\n",
    "    '''\n",
    "    G = np.apply_along_axis(g_expression, axis=0, arr=T, y=y)\n",
    "    return G.argmin(), G"
   ]
  },
  {
   "cell_type": "markdown",
   "metadata": {},
   "source": [
    "Згенеруємо приклад для перевірки реалізованих функцій:"
   ]
  },
  {
   "cell_type": "code",
   "execution_count": 5,
   "metadata": {},
   "outputs": [
    {
     "data": {
      "text/plain": [
       "array([[2, 1, 2, 2, 0],\n",
       "       [2, 2, 1, 3, 2],\n",
       "       [3, 1, 2, 1, 0],\n",
       "       [1, 2, 3, 1, 0],\n",
       "       [2, 0, 3, 1, 3],\n",
       "       [2, 1, 0, 0, 0],\n",
       "       [0, 1, 3, 3, 2],\n",
       "       [0, 3, 2, 0, 3],\n",
       "       [0, 1, 0, 3, 1],\n",
       "       [3, 0, 0, 0, 2]])"
      ]
     },
     "metadata": {},
     "output_type": "display_data"
    },
    {
     "data": {
      "text/plain": [
       "array([1, 1, 2, 2, 2, 1, 0, 0, 2, 1])"
      ]
     },
     "metadata": {},
     "output_type": "display_data"
    }
   ],
   "source": [
    "N = 10  # number of observations\n",
    "m = 5  # number of features\n",
    "q_h = 4  # number of different values for each feature\n",
    "v = 3 # number of different labels\n",
    "\n",
    "np.random.seed(123)\n",
    "T = np.random.randint(q_h ,size=(N,m))\n",
    "y = np.random.randint(v, size=N)\n",
    "display(T)\n",
    "display(y)"
   ]
  },
  {
   "cell_type": "code",
   "execution_count": 6,
   "metadata": {},
   "outputs": [
    {
     "name": "stdout",
     "output_type": "stream",
     "text": [
      "Значення виразу мінімальне для 3 ознаки\n",
      "Відповідні значення виразу для кожної ознаки:\n"
     ]
    },
    {
     "data": {
      "text/plain": [
       "array([0.38333333, 0.52      , 0.46666667, 0.33333333, 0.43333333])"
      ]
     },
     "metadata": {},
     "output_type": "display_data"
    }
   ],
   "source": [
    "rez = find_best_feature(T, y)\n",
    "print(f\"Значення виразу мінімальне для {rez[0]} ознаки\")\n",
    "print(\"Відповідні значення виразу для кожної ознаки:\")\n",
    "display(rez[1])"
   ]
  }
 ],
 "metadata": {
  "kernelspec": {
   "display_name": "Python 3",
   "language": "python",
   "name": "python3"
  },
  "language_info": {
   "codemirror_mode": {
    "name": "ipython",
    "version": 3
   },
   "file_extension": ".py",
   "mimetype": "text/x-python",
   "name": "python",
   "nbconvert_exporter": "python",
   "pygments_lexer": "ipython3",
   "version": "3.8.3"
  }
 },
 "nbformat": 4,
 "nbformat_minor": 4
}
